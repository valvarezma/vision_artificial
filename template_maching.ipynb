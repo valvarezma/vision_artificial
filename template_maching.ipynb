{
  "nbformat": 4,
  "nbformat_minor": 0,
  "metadata": {
    "colab": {
      "provenance": [],
      "gpuType": "T4",
      "include_colab_link": true
    },
    "kernelspec": {
      "name": "python3",
      "display_name": "Python 3"
    },
    "language_info": {
      "name": "python"
    },
    "accelerator": "GPU"
  },
  "cells": [
    {
      "cell_type": "markdown",
      "metadata": {
        "id": "view-in-github",
        "colab_type": "text"
      },
      "source": [
        "<a href=\"https://colab.research.google.com/github/valvarezma/vision_artificial/blob/main/template_maching.ipynb\" target=\"_parent\"><img src=\"https://colab.research.google.com/assets/colab-badge.svg\" alt=\"Open In Colab\"/></a>"
      ]
    },
    {
      "cell_type": "markdown",
      "source": [
        "Instalar Librerias de OpenCV Jupyter"
      ],
      "metadata": {
        "id": "OV1dLk982e8y"
      }
    },
    {
      "cell_type": "code",
      "source": [
        "%%capture\n",
        "!apt install libopencv-dev\n",
        "!pip install nvcc4jupyter\n",
        "%load_ext nvcc4jupyter\n",
        "\n",
        "import os\n",
        "import subprocess\n",
        "from IPython.display import Image\n",
        "COMPILER_ARGS = subprocess.check_output([\"pkg-config\", \"--cflags\", \"--libs\", \"opencv4\"]).decode().strip()\n",
        "print(COMPILER_ARGS)\n",
        "\n",
        "import os\n",
        "import subprocess\n",
        "from IPython.display import Image\n",
        "\n",
        "IMG_SIZE = 400\n",
        "os.environ[\"IMG_SIZE\"] = str(IMG_SIZE)\n",
        "IMG_FNAME = \"image.jpg\"\n",
        "os.environ[\"IMG_FNAME\"] = IMG_FNAME\n",
        "\n",
        "!wget -O $IMG_FNAME https://picsum.photos/$IMG_SIZE.jpg &> /dev/null\n",
        "Image(filename=IMG_FNAME)\n",
        "Image(filename=IMG_FNAME).save(\"imagen_2.jpg\")\n",
        "\n"
      ],
      "metadata": {
        "colab": {
          "base_uri": "https://localhost:8080/",
          "height": 211
        },
        "id": "vItX9RRKkU4C",
        "outputId": "66431ee2-0ba2-48ee-b031-6751fd98edec"
      },
      "execution_count": 10,
      "outputs": [
        {
          "output_type": "error",
          "ename": "AttributeError",
          "evalue": "'Image' object has no attribute 'save'",
          "traceback": [
            "\u001b[0;31m---------------------------------------------------------------------------\u001b[0m",
            "\u001b[0;31mAttributeError\u001b[0m                            Traceback (most recent call last)",
            "\u001b[0;32m<ipython-input-10-4a6b0d9fce1f>\u001b[0m in \u001b[0;36m<cell line: 22>\u001b[0;34m()\u001b[0m\n\u001b[1;32m     20\u001b[0m \u001b[0mget_ipython\u001b[0m\u001b[0;34m(\u001b[0m\u001b[0;34m)\u001b[0m\u001b[0;34m.\u001b[0m\u001b[0msystem\u001b[0m\u001b[0;34m(\u001b[0m\u001b[0;34m'wget -O $IMG_FNAME https://picsum.photos/$IMG_SIZE.jpg &> /dev/null'\u001b[0m\u001b[0;34m)\u001b[0m\u001b[0;34m\u001b[0m\u001b[0;34m\u001b[0m\u001b[0m\n\u001b[1;32m     21\u001b[0m \u001b[0mImage\u001b[0m\u001b[0;34m(\u001b[0m\u001b[0mfilename\u001b[0m\u001b[0;34m=\u001b[0m\u001b[0mIMG_FNAME\u001b[0m\u001b[0;34m)\u001b[0m\u001b[0;34m\u001b[0m\u001b[0;34m\u001b[0m\u001b[0m\n\u001b[0;32m---> 22\u001b[0;31m \u001b[0mImage\u001b[0m\u001b[0;34m(\u001b[0m\u001b[0mfilename\u001b[0m\u001b[0;34m=\u001b[0m\u001b[0mIMG_FNAME\u001b[0m\u001b[0;34m)\u001b[0m\u001b[0;34m.\u001b[0m\u001b[0msave\u001b[0m\u001b[0;34m(\u001b[0m\u001b[0;34m\"imagen_2.jpg\"\u001b[0m\u001b[0;34m)\u001b[0m\u001b[0;34m\u001b[0m\u001b[0;34m\u001b[0m\u001b[0m\n\u001b[0m\u001b[1;32m     23\u001b[0m \u001b[0;34m\u001b[0m\u001b[0m\n",
            "\u001b[0;31mAttributeError\u001b[0m: 'Image' object has no attribute 'save'"
          ]
        }
      ]
    },
    {
      "cell_type": "markdown",
      "source": [
        "Blurring de una imagen en Cuda"
      ],
      "metadata": {
        "id": "xeuiKrzJ3Jhp"
      }
    },
    {
      "cell_type": "code",
      "source": [
        "\n",
        "%%cuda --compiler-args \"$COMPILER_ARGS\"\n",
        "\n",
        "#include <opencv2/core.hpp>\n",
        "#include <opencv2/imgcodecs.hpp>\n",
        "\n",
        "#include <iostream>\n",
        "\n",
        "#define BLUR_SIZE 5\n",
        "#define R 0\n",
        "#define G 1\n",
        "#define B 2\n",
        "\n",
        "// error checking macro\n",
        "#define cudaCheckErrors(msg) \\\n",
        "    do { \\\n",
        "        cudaError_t __err = cudaGetLastError(); \\\n",
        "        if (__err != cudaSuccess) { \\\n",
        "            fprintf(stderr, \"Fatal error: %s (%s at %s:%d)\\n\", \\\n",
        "                msg, cudaGetErrorString(__err), \\\n",
        "                __FILE__, __LINE__); \\\n",
        "            fprintf(stderr, \"*** FAILED - ABORTING\\n\"); \\\n",
        "            exit(1); \\\n",
        "        } \\\n",
        "    } while (0)\n",
        "\n",
        "// kernel taken from https://stackoverflow.com/a/65973288\n",
        "__global__ void blurKernel(\n",
        "    unsigned char* in,\n",
        "    unsigned char* out,\n",
        "    int width,\n",
        "    int height,\n",
        "    int num_channel,\n",
        "    int channel\n",
        ") {\n",
        "\n",
        "    int col = blockIdx.x * blockDim.x + threadIdx.x;\n",
        "    int row = blockIdx.y * blockDim.y + threadIdx.y;\n",
        "\n",
        "    if(col < width && row < height) {\n",
        "        int pixVal = 0;\n",
        "        int pixels = 0;\n",
        "        for(int blurRow = -BLUR_SIZE; blurRow < BLUR_SIZE + 1; ++blurRow) {\n",
        "            for(int blurCol = -BLUR_SIZE; blurCol < BLUR_SIZE + 1; ++blurCol) {\n",
        "                int curRow = row + blurRow;\n",
        "                int curCol = col + blurCol;\n",
        "                if(curRow > -1 && curRow < height && curCol > -1 && curCol < width) {\n",
        "                    pixVal += in[curRow * width * num_channel + curCol * num_channel + channel];\n",
        "                    pixels++;\n",
        "                }\n",
        "            }\n",
        "        }\n",
        "        out[row * width * num_channel + col * num_channel + channel] = (unsigned char)(pixVal/pixels);\n",
        "    }\n",
        "}\n",
        "\n",
        "int main()\n",
        "{\n",
        "    !wget -O $IMG_FNAME https://picsum.photos/$IMG_SIZE.jpg &> /dev/null\n",
        "    Image(filename=IMG_FNAME)\n",
        "    std::string image_path = cv::samples::findFile(\"image.jpg\");\n",
        "    cv::Mat img = imread(image_path, cv::IMREAD_COLOR);\n",
        "    if(img.empty())\n",
        "    {\n",
        "        std::cerr << \"Could not read the image: \" << image_path << std::endl;\n",
        "        return 1;\n",
        "    }\n",
        "\n",
        "    // image shape\n",
        "    int width = img.cols;\n",
        "    int height = img.rows;\n",
        "    int n_channels = 3; // hard-coded RGB processing\n",
        "\n",
        "    // we will read and write directly into the data array of the OpenCV Matrix\n",
        "    unsigned char *host_image_input = img.data;\n",
        "    unsigned char *host_image_output = img.data;\n",
        "\n",
        "    // allocate memory for device arrays\n",
        "    unsigned char* dev_image_input = NULL;\n",
        "    unsigned char* dev_image_output = NULL;\n",
        "    cudaMalloc(\n",
        "        (void**)&dev_image_input,\n",
        "        sizeof(unsigned char) * height * width * n_channels\n",
        "    );\n",
        "    cudaMalloc(\n",
        "        (void**)&dev_image_output,\n",
        "        sizeof(unsigned char) * height * width * n_channels\n",
        "    );\n",
        "    cudaCheckErrors(\"cudaMalloc failure\");\n",
        "\n",
        "    // transfer data from host to device for processing on GPU\n",
        "    cudaMemcpy(\n",
        "        dev_image_input,\n",
        "        host_image_input,\n",
        "        sizeof(unsigned char) * height * width * n_channels,\n",
        "        cudaMemcpyHostToDevice\n",
        "    );\n",
        "    cudaCheckErrors(\"cudaMemcpy H2D failure\");\n",
        "\n",
        "    // run a blur kernel on each channel\n",
        "    dim3 blockSize(16, 16, 1);\n",
        "    dim3 gridSize(width/blockSize.x, height/blockSize.y, 1);\n",
        "    blurKernel<<<gridSize, blockSize>>>(dev_image_input, dev_image_output, width, height, n_channels, R);\n",
        "    blurKernel<<<gridSize, blockSize>>>(dev_image_input, dev_image_output, width, height, n_channels, G);\n",
        "    blurKernel<<<gridSize, blockSize>>>(dev_image_input, dev_image_output, width, height, n_channels, B);\n",
        "\n",
        "    cudaDeviceSynchronize();\n",
        "    cudaCheckErrors(\"kernel failure\");\n",
        "\n",
        "    // copy results back to host\n",
        "    cudaMemcpy(\n",
        "        host_image_output,\n",
        "        dev_image_output,\n",
        "        sizeof(unsigned char) * height * width * n_channels,\n",
        "        cudaMemcpyDeviceToHost\n",
        "    );\n",
        "    cudaCheckErrors(\"cudaMemcpy D2H failure\");\n",
        "\n",
        "    cudaFree(dev_image_input);\n",
        "    cudaFree(dev_image_output);\n",
        "\n",
        "    // save the blurred image to disk\n",
        "    cv::imwrite(\"image_blurred.jpg\", img);\n",
        "    return 0;\n",
        "}"
      ],
      "metadata": {
        "id": "qrAGaUpI3Hko"
      },
      "execution_count": null,
      "outputs": []
    },
    {
      "cell_type": "markdown",
      "source": [
        "### Template Matching"
      ],
      "metadata": {
        "id": "SAQ1x3_JNvhT"
      }
    },
    {
      "cell_type": "code",
      "source": [
        "from google.colab import drive\n",
        "drive.mount('/content/drive')"
      ],
      "metadata": {
        "colab": {
          "base_uri": "https://localhost:8080/"
        },
        "id": "UnIbuGhe37SD",
        "outputId": "b3a4a182-da32-4a27-ddd2-6bfa1351816c"
      },
      "execution_count": 2,
      "outputs": [
        {
          "output_type": "stream",
          "name": "stdout",
          "text": [
            "Mounted at /content/drive\n"
          ]
        }
      ]
    },
    {
      "cell_type": "code",
      "source": [
        "%%cuda --compiler-args \"$COMPILER_ARGS\"\n",
        "#include <iostream>\n",
        "#include <opencv2/opencv.hpp>\n",
        "\n",
        "__global__ void templateMatching(const uchar* input, const uchar* template_img, float* result, int input_rows, int input_cols, int template_rows, int template_cols) {\n",
        "    int row = blockIdx.y * blockDim.y + threadIdx.y;\n",
        "    int col = blockIdx.x * blockDim.x + threadIdx.x;\n",
        "\n",
        "    if (row < input_rows - template_rows && col < input_cols - template_cols) {\n",
        "        float sum = 0.0f;\n",
        "        float input_mean = 0.0f;\n",
        "        float template_mean = 0.0f;\n",
        "\n",
        "        // Calcular la media de la imagen de entrada y de la plantilla\n",
        "        for (int i = 0; i < template_rows; ++i) {\n",
        "            for (int j = 0; j < template_cols; ++j) {\n",
        "                input_mean += input[(row + i) * input_cols + (col + j)];\n",
        "                template_mean += template_img[i * template_cols + j];\n",
        "            }\n",
        "        }\n",
        "        input_mean /= (template_rows * template_cols);\n",
        "        template_mean /= (template_rows * template_cols);\n",
        "\n",
        "        // Calcular la correlación cruzada normalizada (NCC)\n",
        "        for (int i = 0; i < template_rows; ++i) {\n",
        "            for (int j = 0; j < template_cols; ++j) {\n",
        "                float input_pixel = input[(row + i) * input_cols + (col + j)];\n",
        "                float template_pixel = template_img[i * template_cols + j];\n",
        "                sum += (input_pixel - input_mean) * (template_pixel - template_mean);\n",
        "            }\n",
        "        }\n",
        "        result[row * (input_cols - template_cols) + col] = sum;\n",
        "    }\n",
        "}\n",
        "\n",
        "int main() {\n",
        "    cv::Mat input_image = cv::imread(\"/content/drive/MyDrive/template_matching/imagen_a.jpg\", cv::IMREAD_GRAYSCALE);\n",
        "    cv::Mat template_image = cv::imread(\"/content/drive/MyDrive/template_matching/imagen_b.jpg\", cv::IMREAD_GRAYSCALE);\n",
        "\n",
        "    if (input_image.empty() || template_image.empty()) {\n",
        "        std::cerr << \"Error: No se pudieron cargar las imágenes.\" << std::endl;\n",
        "        return 1;\n",
        "    }\n",
        "\n",
        "    int input_rows = input_image.rows;\n",
        "    int input_cols = input_image.cols;\n",
        "    int template_rows = template_image.rows;\n",
        "    int template_cols = template_image.cols;\n",
        "\n",
        "    uchar *d_input, *d_template;\n",
        "    float *d_result;\n",
        "\n",
        "    cudaMalloc(&d_input, input_rows * input_cols * sizeof(uchar));\n",
        "    cudaMalloc(&d_template, template_rows * template_cols * sizeof(uchar));\n",
        "    cudaMalloc(&d_result, (input_rows - template_rows) * (input_cols - template_cols) * sizeof(float));\n",
        "\n",
        "    cudaMemcpy(d_input, input_image.data, input_rows * input_cols * sizeof(uchar), cudaMemcpyHostToDevice);\n",
        "    cudaMemcpy(d_template, template_image.data, template_rows * template_cols * sizeof(uchar), cudaMemcpyHostToDevice);\n",
        "\n",
        "    dim3 threadsPerBlock(16, 16);\n",
        "    dim3 numBlocks((input_cols - template_cols + threadsPerBlock.x - 1) / threadsPerBlock.x, (input_rows - template_rows + threadsPerBlock.y - 1) / threadsPerBlock.y);\n",
        "\n",
        "    templateMatching<<<numBlocks, threadsPerBlock>>>(d_input, d_template, d_result, input_rows, input_cols, template_rows, template_cols);\n",
        "    cudaDeviceSynchronize();\n",
        "\n",
        "    float* result = new float[(input_rows - template_rows) * (input_cols - template_cols)];\n",
        "    cudaMemcpy(result, d_result, (input_rows - template_rows) * (input_cols - template_cols) * sizeof(float), cudaMemcpyDeviceToHost);\n",
        "\n",
        "    // Encontrar la ubicación de la mejor coincidencia\n",
        "    float max_val = -FLT_MAX;\n",
        "    cv::Point best_match;\n",
        "    for (int i = 0; i < input_rows - template_rows; ++i) {\n",
        "        for (int j = 0; j < input_cols - template_cols; ++j) {\n",
        "            if (result[i * (input_cols - template_cols) + j] > max_val) {\n",
        "                max_val = result[i * (input_cols - template_cols) + j];\n",
        "                best_match = cv::Point(j, i);\n",
        "            }\n",
        "        }\n",
        "    }\n",
        "\n",
        "    // Dibujar el recuadro en la imagen de entrada\n",
        "    cv::rectangle(input_image, best_match, cv::Point(best_match.x + template_cols, best_match.y + template_rows), cv::Scalar(0, 255, 0), 2);\n",
        "\n",
        "    // Mostrar la imagen con el recuadro\n",
        "\n",
        "    cv::imwrite(\"/content/drive/MyDrive/template_matching/image_cuadro.jpg\", input_image);\n",
        "    cv::waitKey(0);\n",
        "    cv::destroyAllWindows();\n",
        "\n",
        "    delete[] result;\n",
        "    cudaFree(d_input);\n",
        "    cudaFree(d_template);\n",
        "    cudaFree(d_result);\n",
        "\n",
        "    return 0;\n",
        "}\n"
      ],
      "metadata": {
        "colab": {
          "base_uri": "https://localhost:8080/"
        },
        "id": "UtUp4GQJ3swZ",
        "outputId": "33b005b6-0e98-4e34-c43e-a04e4549941b"
      },
      "execution_count": 7,
      "outputs": [
        {
          "output_type": "stream",
          "name": "stdout",
          "text": [
            "\n"
          ]
        }
      ]
    }
  ]
}