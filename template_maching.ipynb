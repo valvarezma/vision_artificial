{
  "nbformat": 4,
  "nbformat_minor": 0,
  "metadata": {
    "colab": {
      "provenance": [],
      "gpuType": "T4",
      "include_colab_link": true
    },
    "kernelspec": {
      "name": "python3",
      "display_name": "Python 3"
    },
    "language_info": {
      "name": "python"
    },
    "accelerator": "GPU"
  },
  "cells": [
    {
      "cell_type": "markdown",
      "metadata": {
        "id": "view-in-github",
        "colab_type": "text"
      },
      "source": [
        "<a href=\"https://colab.research.google.com/github/valvarezma/vision_artificial/blob/main/template_maching.ipynb\" target=\"_parent\"><img src=\"https://colab.research.google.com/assets/colab-badge.svg\" alt=\"Open In Colab\"/></a>"
      ]
    },
    {
      "cell_type": "code",
      "source": [
        "!apt install libopencv-dev"
      ],
      "metadata": {
        "colab": {
          "base_uri": "https://localhost:8080/"
        },
        "id": "vItX9RRKkU4C",
        "outputId": "e25b2c8a-97f3-496b-bd0f-ace340cb6b8a"
      },
      "execution_count": null,
      "outputs": [
        {
          "output_type": "stream",
          "name": "stdout",
          "text": [
            "Reading package lists... Done\n",
            "Building dependency tree... Done\n",
            "Reading state information... Done\n",
            "libopencv-dev is already the newest version (4.5.4+dfsg-9ubuntu4+jammy0).\n",
            "0 upgraded, 0 newly installed, 0 to remove and 45 not upgraded.\n"
          ]
        }
      ]
    },
    {
      "cell_type": "markdown",
      "source": [
        "Install and load the nvcc4jupyter extension, which will allow us to run CUDA C++ code using cell magics. See [the documentation](https://nvcc4jupyter.readthedocs.io/en/latest/usage.html) for details."
      ],
      "metadata": {
        "id": "J2iU1zyrK4FF"
      }
    },
    {
      "cell_type": "code",
      "source": [
        "%%capture\n",
        "!pip install nvcc4jupyter"
      ],
      "metadata": {
        "id": "K1pfzEEsjlFD"
      },
      "execution_count": null,
      "outputs": []
    },
    {
      "cell_type": "code",
      "source": [
        "%load_ext nvcc4jupyter"
      ],
      "metadata": {
        "colab": {
          "base_uri": "https://localhost:8080/"
        },
        "id": "w-4m2tFtlt_M",
        "outputId": "da6d504f-1686-45a7-dafa-450da873a4b0"
      },
      "execution_count": null,
      "outputs": [
        {
          "output_type": "stream",
          "name": "stdout",
          "text": [
            "Detected platform \"Colab\". Running its setup...\n",
            "Source files will be saved in \"/tmp/tmpc909e385\".\n"
          ]
        }
      ]
    },
    {
      "cell_type": "markdown",
      "source": [
        "## Code"
      ],
      "metadata": {
        "id": "hBZR7kZkk4UV"
      }
    },
    {
      "cell_type": "markdown",
      "source": [
        "### Imports"
      ],
      "metadata": {
        "id": "JppQ-78qLYjP"
      }
    },
    {
      "cell_type": "code",
      "source": [
        "import os\n",
        "import subprocess\n",
        "from IPython.display import Image"
      ],
      "metadata": {
        "id": "vYyG7Gd0vJJ0"
      },
      "execution_count": null,
      "outputs": []
    },
    {
      "cell_type": "markdown",
      "source": [
        "### Compiler arguments\n",
        "These are options that you need to pass to the compiler in order to link with the OpenCV library."
      ],
      "metadata": {
        "id": "BeOimvKtNluI"
      }
    },
    {
      "cell_type": "code",
      "source": [
        "COMPILER_ARGS = subprocess.check_output([\"pkg-config\", \"--cflags\", \"--libs\", \"opencv4\"]).decode().strip()\n",
        "print(COMPILER_ARGS)"
      ],
      "metadata": {
        "colab": {
          "base_uri": "https://localhost:8080/"
        },
        "id": "sag0O0Xqqym4",
        "outputId": "824011ec-6043-4450-c1ca-840d76b17335"
      },
      "execution_count": null,
      "outputs": [
        {
          "output_type": "stream",
          "name": "stdout",
          "text": [
            "-I/usr/include/opencv4 -lopencv_stitching -lopencv_alphamat -lopencv_aruco -lopencv_barcode -lopencv_bgsegm -lopencv_bioinspired -lopencv_ccalib -lopencv_dnn_objdetect -lopencv_dnn_superres -lopencv_dpm -lopencv_face -lopencv_freetype -lopencv_fuzzy -lopencv_hdf -lopencv_hfs -lopencv_img_hash -lopencv_intensity_transform -lopencv_line_descriptor -lopencv_mcc -lopencv_quality -lopencv_rapid -lopencv_reg -lopencv_rgbd -lopencv_saliency -lopencv_shape -lopencv_stereo -lopencv_structured_light -lopencv_phase_unwrapping -lopencv_superres -lopencv_optflow -lopencv_surface_matching -lopencv_tracking -lopencv_highgui -lopencv_datasets -lopencv_text -lopencv_plot -lopencv_ml -lopencv_videostab -lopencv_videoio -lopencv_viz -lopencv_wechat_qrcode -lopencv_ximgproc -lopencv_video -lopencv_xobjdetect -lopencv_objdetect -lopencv_calib3d -lopencv_imgcodecs -lopencv_features2d -lopencv_dnn -lopencv_flann -lopencv_xphoto -lopencv_photo -lopencv_imgproc -lopencv_core\n"
          ]
        }
      ]
    },
    {
      "cell_type": "markdown",
      "source": [
        "### Template Matching"
      ],
      "metadata": {
        "id": "SAQ1x3_JNvhT"
      }
    },
    {
      "cell_type": "code",
      "source": [
        "from google.colab import drive\n",
        "drive.mount('/content/drive')"
      ],
      "metadata": {
        "colab": {
          "base_uri": "https://localhost:8080/"
        },
        "id": "UnIbuGhe37SD",
        "outputId": "643f4715-1926-4dbb-e699-f4d5c28eb5f5"
      },
      "execution_count": null,
      "outputs": [
        {
          "output_type": "stream",
          "name": "stdout",
          "text": [
            "Mounted at /content/drive\n"
          ]
        }
      ]
    },
    {
      "cell_type": "code",
      "source": [
        "%%cuda --compiler-args \"$COMPILER_ARGS\"\n",
        "#include <iostream>\n",
        "#include <opencv2/opencv.hpp>\n",
        "\n",
        "__global__ void templateMatching(const uchar* input, const uchar* template_img, float* result, int input_rows, int input_cols, int template_rows, int template_cols) {\n",
        "    int row = blockIdx.y * blockDim.y + threadIdx.y;\n",
        "    int col = blockIdx.x * blockDim.x + threadIdx.x;\n",
        "\n",
        "    if (row < input_rows - template_rows && col < input_cols - template_cols) {\n",
        "        float sum = 0.0f;\n",
        "        float input_mean = 0.0f;\n",
        "        float template_mean = 0.0f;\n",
        "\n",
        "        // Calcular la media de la imagen de entrada y de la plantilla\n",
        "        for (int i = 0; i < template_rows; ++i) {\n",
        "            for (int j = 0; j < template_cols; ++j) {\n",
        "                input_mean += input[(row + i) * input_cols + (col + j)];\n",
        "                template_mean += template_img[i * template_cols + j];\n",
        "            }\n",
        "        }\n",
        "        input_mean /= (template_rows * template_cols);\n",
        "        template_mean /= (template_rows * template_cols);\n",
        "\n",
        "        // Calcular la correlación cruzada normalizada (NCC)\n",
        "        for (int i = 0; i < template_rows; ++i) {\n",
        "            for (int j = 0; j < template_cols; ++j) {\n",
        "                float input_pixel = input[(row + i) * input_cols + (col + j)];\n",
        "                float template_pixel = template_img[i * template_cols + j];\n",
        "                sum += (input_pixel - input_mean) * (template_pixel - template_mean);\n",
        "            }\n",
        "        }\n",
        "        result[row * (input_cols - template_cols) + col] = sum;\n",
        "    }\n",
        "}\n",
        "\n",
        "int main() {\n",
        "    cv::Mat input_image = cv::imread(\"/content/drive/MyDrive/template_matching/imagen_a.jpg\", cv::IMREAD_GRAYSCALE);\n",
        "    cv::Mat template_image = cv::imread(\"/content/drive/MyDrive/template_matching/imagen_b.jpg\", cv::IMREAD_GRAYSCALE);\n",
        "\n",
        "    if (input_image.empty() || template_image.empty()) {\n",
        "        std::cerr << \"Error: No se pudieron cargar las imágenes.\" << std::endl;\n",
        "        return 1;\n",
        "    }\n",
        "\n",
        "    int input_rows = input_image.rows;\n",
        "    int input_cols = input_image.cols;\n",
        "    int template_rows = template_image.rows;\n",
        "    int template_cols = template_image.cols;\n",
        "\n",
        "    uchar *d_input, *d_template;\n",
        "    float *d_result;\n",
        "\n",
        "    cudaMalloc(&d_input, input_rows * input_cols * sizeof(uchar));\n",
        "    cudaMalloc(&d_template, template_rows * template_cols * sizeof(uchar));\n",
        "    cudaMalloc(&d_result, (input_rows - template_rows) * (input_cols - template_cols) * sizeof(float));\n",
        "\n",
        "    cudaMemcpy(d_input, input_image.data, input_rows * input_cols * sizeof(uchar), cudaMemcpyHostToDevice);\n",
        "    cudaMemcpy(d_template, template_image.data, template_rows * template_cols * sizeof(uchar), cudaMemcpyHostToDevice);\n",
        "\n",
        "    dim3 threadsPerBlock(16, 16);\n",
        "    dim3 numBlocks((input_cols - template_cols + threadsPerBlock.x - 1) / threadsPerBlock.x, (input_rows - template_rows + threadsPerBlock.y - 1) / threadsPerBlock.y);\n",
        "\n",
        "    templateMatching<<<numBlocks, threadsPerBlock>>>(d_input, d_template, d_result, input_rows, input_cols, template_rows, template_cols);\n",
        "    cudaDeviceSynchronize();\n",
        "\n",
        "    float* result = new float[(input_rows - template_rows) * (input_cols - template_cols)];\n",
        "    cudaMemcpy(result, d_result, (input_rows - template_rows) * (input_cols - template_cols) * sizeof(float), cudaMemcpyDeviceToHost);\n",
        "\n",
        "    // Encontrar la ubicación de la mejor coincidencia\n",
        "    float max_val = -FLT_MAX;\n",
        "    cv::Point best_match;\n",
        "    for (int i = 0; i < input_rows - template_rows; ++i) {\n",
        "        for (int j = 0; j < input_cols - template_cols; ++j) {\n",
        "            if (result[i * (input_cols - template_cols) + j] > max_val) {\n",
        "                max_val = result[i * (input_cols - template_cols) + j];\n",
        "                best_match = cv::Point(j, i);\n",
        "            }\n",
        "        }\n",
        "    }\n",
        "\n",
        "    // Dibujar el recuadro en la imagen de entrada\n",
        "    cv::rectangle(input_image, best_match, cv::Point(best_match.x + template_cols, best_match.y + template_rows), cv::Scalar(0, 255, 0), 2);\n",
        "\n",
        "    // Mostrar la imagen con el recuadro\n",
        "\n",
        "    cv::imwrite(\"/content/drive/MyDrive/template_matching/image_cuadro.jpg\", input_image);\n",
        "    cv::waitKey(0);\n",
        "    cv::destroyAllWindows();\n",
        "\n",
        "    delete[] result;\n",
        "    cudaFree(d_input);\n",
        "    cudaFree(d_template);\n",
        "    cudaFree(d_result);\n",
        "\n",
        "    return 0;\n",
        "}\n"
      ],
      "metadata": {
        "colab": {
          "base_uri": "https://localhost:8080/"
        },
        "id": "UtUp4GQJ3swZ",
        "outputId": "a483a001-1882-4e39-e29b-28d7bf88ee2a"
      },
      "execution_count": null,
      "outputs": [
        {
          "output_type": "stream",
          "name": "stdout",
          "text": [
            "\n"
          ]
        }
      ]
    }
  ]
}